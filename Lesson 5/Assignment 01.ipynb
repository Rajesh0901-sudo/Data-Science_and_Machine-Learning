{
 "cells": [
  {
   "cell_type": "markdown",
   "metadata": {},
   "source": [
    "<img src=\"http://cfs22.simplicdn.net/ice9/new_logo.svgz \"/>\n",
    "\n",
    "# Assignment 01: Evaluate the GDP Dataset\n",
    "\n",
    "*The comments/sections provided are your cues to perform the assignment. You don't need to limit yourself to the number of rows/cells provided. You can add additional rows in each section to add more lines of code.*\n",
    "\n",
    "*If at any point in time you need help on solving this assignment, view our demo video to understand the different steps of the code.*\n",
    "\n",
    "**Happy coding!**\n",
    "\n",
    "* * *"
   ]
  },
  {
   "cell_type": "markdown",
   "metadata": {},
   "source": [
    "#### 1: View and add the dataset"
   ]
  },
  {
   "cell_type": "code",
   "execution_count": 110,
   "metadata": {},
   "outputs": [],
   "source": [
    "#Import required library\n",
    "import numpy as np"
   ]
  },
  {
   "cell_type": "code",
   "execution_count": 111,
   "metadata": {},
   "outputs": [],
   "source": [
    "#Manually add the dataset\n",
    "dataSet=np.array([['Algeria','Angola','Argentina','Australia','Austria','Bahamas','Bangladesh','Belarus','Belgium','Bhutan','Brazil','Bulgaria','Cambodia','Cameroon','Chile','China','Colombia','Cyprus','Denmark','El Salvador','Estonia','Ethiopia','Fiji','Finland','France','Georgia','Ghana','Grenada','Guinea','Haiti','Honduras','Hungary','India','Indonesia','Ireland','Italy','Japan','Kenya', 'South Korea','Liberia','Malaysia','Mexico', 'Morocco','Nepal','New Zealand','Norway','Pakistan', 'Peru','Qatar','Russia','Singapore','South Africa','Spain','Sweden','Switzerland','Thailand', 'United Arab Emirates','United Kingdom','United States','Uruguay','Venezuela','Vietnam','Zimbabwe'],[2255.225482,629.9553062,11601.63022,25306.82494,27266.40335,19466.99052,588.3691778,2890.345675,24733.62696,1445.760002,4803.398244,2618.876037,590.4521124,665.7982328,7122.938458,2639.54156,3362.4656,15378.16704,30860.12808,2579.115607,6525.541272,229.6769525,2242.689259,27570.4852,23016.84778,1334.646773,402.6953275,6047.200797,394.1156638,385.5793827,1414.072488,5745.981529,837.7464011,1206.991065,27715.52837,18937.24998,39578.07441,478.2194906,16684.21278,279.2204061,5345.213415,6288.25324,1908.304416,274.8728621,14646.42094,40034.85063,672.1547506,3359.517402,36152.66676,3054.727742,33529.83052,3825.093781,15428.32098,33630.24604,39170.41371,2699.123242,21058.43643,28272.40661,37691.02733,9581.05659,5671.912202,757.4009286,347.7456605]])"
   ]
  },
  {
   "cell_type": "markdown",
   "metadata": {
    "collapsed": true
   },
   "source": [
    "#### 2: Find and print the name of the country with the highest GDP"
   ]
  },
  {
   "cell_type": "code",
   "execution_count": 112,
   "metadata": {},
   "outputs": [],
   "source": [
    "#Use the argmax() method to find the highest GDP\n",
    "max_GDP_index=np.argmax(dataSet[1])"
   ]
  },
  {
   "cell_type": "code",
   "execution_count": 113,
   "metadata": {},
   "outputs": [
    {
     "name": "stdout",
     "output_type": "stream",
     "text": [
      "['Uruguay' '9581.05659']\n"
     ]
    }
   ],
   "source": [
    "#Print the name of the country\n",
    "print(dataSet[:,max_GDP_index])"
   ]
  },
  {
   "cell_type": "markdown",
   "metadata": {},
   "source": [
    "#### 3: Find and print the name of the country with the lowest GDP"
   ]
  },
  {
   "cell_type": "code",
   "execution_count": 114,
   "metadata": {},
   "outputs": [],
   "source": [
    "#Use the argmin() method to find the lowest GDP\n",
    "min_GDP_index=np.argmin(dataSet[1])"
   ]
  },
  {
   "cell_type": "code",
   "execution_count": 115,
   "metadata": {},
   "outputs": [
    {
     "name": "stdout",
     "output_type": "stream",
     "text": [
      "['Argentina' '11601.63022']\n"
     ]
    }
   ],
   "source": [
    "#Print the name of the country\n",
    "print(dataSet[:,min_GDP_index])"
   ]
  },
  {
   "cell_type": "markdown",
   "metadata": {},
   "source": [
    "#### 4: Print out text ('evaluating country') and input value ('country name') iteratively"
   ]
  },
  {
   "cell_type": "code",
   "execution_count": 116,
   "metadata": {},
   "outputs": [
    {
     "name": "stdout",
     "output_type": "stream",
     "text": [
      "evaluating country Algeria\n",
      "evaluating country Angola\n",
      "evaluating country Argentina\n",
      "evaluating country Australia\n",
      "evaluating country Austria\n",
      "evaluating country Bahamas\n",
      "evaluating country Bangladesh\n",
      "evaluating country Belarus\n",
      "evaluating country Belgium\n",
      "evaluating country Bhutan\n",
      "evaluating country Brazil\n",
      "evaluating country Bulgaria\n",
      "evaluating country Cambodia\n",
      "evaluating country Cameroon\n",
      "evaluating country Chile\n",
      "evaluating country China\n",
      "evaluating country Colombia\n",
      "evaluating country Cyprus\n",
      "evaluating country Denmark\n",
      "evaluating country El Salvador\n",
      "evaluating country Estonia\n",
      "evaluating country Ethiopia\n",
      "evaluating country Fiji\n",
      "evaluating country Finland\n",
      "evaluating country France\n",
      "evaluating country Georgia\n",
      "evaluating country Ghana\n",
      "evaluating country Grenada\n",
      "evaluating country Guinea\n",
      "evaluating country Haiti\n",
      "evaluating country Honduras\n",
      "evaluating country Hungary\n",
      "evaluating country India\n",
      "evaluating country Indonesia\n",
      "evaluating country Ireland\n",
      "evaluating country Italy\n",
      "evaluating country Japan\n",
      "evaluating country Kenya\n",
      "evaluating country South Korea\n",
      "evaluating country Liberia\n",
      "evaluating country Malaysia\n",
      "evaluating country Mexico\n",
      "evaluating country Morocco\n",
      "evaluating country Nepal\n",
      "evaluating country New Zealand\n",
      "evaluating country Norway\n",
      "evaluating country Pakistan\n",
      "evaluating country Peru\n",
      "evaluating country Qatar\n",
      "evaluating country Russia\n",
      "evaluating country Singapore\n",
      "evaluating country South Africa\n",
      "evaluating country Spain\n",
      "evaluating country Sweden\n",
      "evaluating country Switzerland\n",
      "evaluating country Thailand\n",
      "evaluating country United Arab Emirates\n",
      "evaluating country United Kingdom\n",
      "evaluating country United States\n",
      "evaluating country Uruguay\n",
      "evaluating country Venezuela\n",
      "evaluating country Vietnam\n",
      "evaluating country Zimbabwe\n"
     ]
    }
   ],
   "source": [
    "#Use a for loop to print the required output\n",
    "for x in dataSet[0]:\n",
    "    print('evaluating country '+x)"
   ]
  },
  {
   "cell_type": "markdown",
   "metadata": {},
   "source": [
    "#### 5: Print out the entire list of the countries with their GDPs"
   ]
  },
  {
   "cell_type": "code",
   "execution_count": 124,
   "metadata": {},
   "outputs": [
    {
     "name": "stdout",
     "output_type": "stream",
     "text": [
      "GDP of Algeria is 2255.225482\n",
      "GDP of Angola is 629.9553062\n",
      "GDP of Argentina is 11601.63022\n",
      "GDP of Australia is 25306.82494\n",
      "GDP of Austria is 27266.40335\n",
      "GDP of Bahamas is 19466.99052\n",
      "GDP of Bangladesh is 588.3691778\n",
      "GDP of Belarus is 2890.345675\n",
      "GDP of Belgium is 24733.62696\n",
      "GDP of Bhutan is 1445.760002\n",
      "GDP of Brazil is 4803.398244\n",
      "GDP of Bulgaria is 2618.876037\n",
      "GDP of Cambodia is 590.4521124\n",
      "GDP of Cameroon is 665.7982328\n",
      "GDP of Chile is 7122.938458\n",
      "GDP of China is 2639.54156\n",
      "GDP of Colombia is 3362.4656\n",
      "GDP of Cyprus is 15378.16704\n",
      "GDP of Denmark is 30860.12808\n",
      "GDP of El Salvador is 2579.115607\n",
      "GDP of Estonia is 6525.541272\n",
      "GDP of Ethiopia is 229.6769525\n",
      "GDP of Fiji is 2242.689259\n",
      "GDP of Finland is 27570.4852\n",
      "GDP of France is 23016.84778\n",
      "GDP of Georgia is 1334.646773\n",
      "GDP of Ghana is 402.6953275\n",
      "GDP of Grenada is 6047.200797\n",
      "GDP of Guinea is 394.1156638\n",
      "GDP of Haiti is 385.5793827\n",
      "GDP of Honduras is 1414.072488\n",
      "GDP of Hungary is 5745.981529\n",
      "GDP of India is 837.7464011\n",
      "GDP of Indonesia is 1206.991065\n",
      "GDP of Ireland is 27715.52837\n",
      "GDP of Italy is 18937.24998\n",
      "GDP of Japan is 39578.07441\n",
      "GDP of Kenya is 478.2194906\n",
      "GDP of South Korea is 16684.21278\n",
      "GDP of Liberia is 279.2204061\n",
      "GDP of Malaysia is 5345.213415\n",
      "GDP of Mexico is 6288.25324\n",
      "GDP of Morocco is 1908.304416\n",
      "GDP of Nepal is 274.8728621\n",
      "GDP of New Zealand is 14646.42094\n",
      "GDP of Norway is 40034.85063\n",
      "GDP of Pakistan is 672.1547506\n",
      "GDP of Peru is 3359.517402\n",
      "GDP of Qatar is 36152.66676\n",
      "GDP of Russia is 3054.727742\n",
      "GDP of Singapore is 33529.83052\n",
      "GDP of South Africa is 3825.093781\n",
      "GDP of Spain is 15428.32098\n",
      "GDP of Sweden is 33630.24604\n",
      "GDP of Switzerland is 39170.41371\n",
      "GDP of Thailand is 2699.123242\n",
      "GDP of United Arab Emirates is 21058.43643\n",
      "GDP of United Kingdom is 28272.40661\n",
      "GDP of United States is 37691.02733\n",
      "GDP of Uruguay is 9581.05659\n",
      "GDP of Venezuela is 5671.912202\n",
      "GDP of Vietnam is 757.4009286\n",
      "GDP of Zimbabwe is 347.7456605\n"
     ]
    }
   ],
   "source": [
    "#Use a for loop to print the required list\n",
    "for i in range(len(dataSet[0])):\n",
    "    print('GDP of {} is {}'.format(dataSet[0][i],dataSet[1][i]))"
   ]
  },
  {
   "cell_type": "markdown",
   "metadata": {},
   "source": [
    "#### 6: Print the following:\n",
    "1. Highest GPD value\n",
    "2. Lowest GDP value\n",
    "3. Mean GDP value\n",
    "4. Standardized GDP value\n",
    "5. Sum of all the GDPs"
   ]
  },
  {
   "cell_type": "code",
   "execution_count": 118,
   "metadata": {},
   "outputs": [
    {
     "name": "stdout",
     "output_type": "stream",
     "text": [
      "9581.05659\n"
     ]
    }
   ],
   "source": [
    "print(dataSet[1,max_GDP_index])"
   ]
  },
  {
   "cell_type": "code",
   "execution_count": 119,
   "metadata": {},
   "outputs": [
    {
     "name": "stdout",
     "output_type": "stream",
     "text": [
      "11601.63022\n"
     ]
    }
   ],
   "source": [
    "print(dataSet[1,min_GDP_index])"
   ]
  },
  {
   "cell_type": "code",
   "execution_count": 120,
   "metadata": {},
   "outputs": [
    {
     "name": "stdout",
     "output_type": "stream",
     "text": [
      "11289.409271639683\n"
     ]
    }
   ],
   "source": [
    "GDP=dataSet[1].astype(float)\n",
    "print(np.mean(GDP))"
   ]
  },
  {
   "cell_type": "code",
   "execution_count": 121,
   "metadata": {},
   "outputs": [
    {
     "name": "stdout",
     "output_type": "stream",
     "text": [
      "[-0.70890655 -0.83644045  0.02449978  1.09993753  1.25370438  0.6416895\n",
      " -0.83970368 -0.65906908  1.05495905 -0.77242478 -0.50895308 -0.68037113\n",
      " -0.83954024 -0.83362788 -0.32694027 -0.67874952 -0.62202214  0.32084217\n",
      "  1.53570163 -0.6834911  -0.37381764 -0.86785003 -0.70989026  1.27756548\n",
      "  0.9202445  -0.78114377 -0.85427339 -0.4113527  -0.85494663 -0.85561647\n",
      " -0.77491128 -0.43498918 -0.82013522 -0.79116083  1.28894693  0.60012111\n",
      "  2.21979323 -0.84834706  0.42332674 -0.86396239 -0.4664372  -0.39243747\n",
      " -0.73612922 -0.86430354  0.26342253  2.25563616 -0.83312909 -0.62225348\n",
      "  1.95100371 -0.64617013  1.74519145 -0.58572     0.32477772  1.75307099\n",
      "  2.18780436 -0.67407418  0.76656923  1.3326448   2.07171787 -0.13405333\n",
      " -0.44080136 -0.82643987 -0.85858526]\n"
     ]
    }
   ],
   "source": [
    "GDP-=np.mean(GDP)\n",
    "GDP/=np.std(GDP)\n",
    "print(GDP)"
   ]
  },
  {
   "cell_type": "code",
   "execution_count": 122,
   "metadata": {},
   "outputs": [
    {
     "name": "stdout",
     "output_type": "stream",
     "text": [
      "711232.7841133001\n"
     ]
    }
   ],
   "source": [
    "GDP=dataSet[1].astype(float)\n",
    "sum_of_GDP=sum(GDP)\n",
    "print(sum_of_GDP)"
   ]
  },
  {
   "cell_type": "code",
   "execution_count": null,
   "metadata": {},
   "outputs": [],
   "source": []
  }
 ],
 "metadata": {
  "kernelspec": {
   "display_name": "Python 3",
   "language": "python",
   "name": "python3"
  },
  "language_info": {
   "codemirror_mode": {
    "name": "ipython",
    "version": 3
   },
   "file_extension": ".py",
   "mimetype": "text/x-python",
   "name": "python",
   "nbconvert_exporter": "python",
   "pygments_lexer": "ipython3",
   "version": "3.8.8"
  }
 },
 "nbformat": 4,
 "nbformat_minor": 1
}
