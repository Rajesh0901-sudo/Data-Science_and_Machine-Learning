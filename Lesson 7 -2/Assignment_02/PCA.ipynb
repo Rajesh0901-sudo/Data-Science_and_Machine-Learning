{
 "cells": [
  {
   "cell_type": "code",
   "execution_count": 1,
   "id": "4ac6c1ea",
   "metadata": {},
   "outputs": [],
   "source": [
    "from sklearn.decomposition import PCA\n",
    "from sklearn.datasets import make_blobs"
   ]
  },
  {
   "cell_type": "code",
   "execution_count": 2,
   "id": "b6cef210",
   "metadata": {},
   "outputs": [],
   "source": [
    "n_sample=20\n",
    "random_state=20"
   ]
  },
  {
   "cell_type": "code",
   "execution_count": 4,
   "id": "6592affa",
   "metadata": {},
   "outputs": [],
   "source": [
    "X,Y = make_blobs(n_samples=n_sample,n_features=10,random_state=None)"
   ]
  },
  {
   "cell_type": "code",
   "execution_count": 5,
   "id": "5f329a27",
   "metadata": {},
   "outputs": [
    {
     "data": {
      "text/plain": [
       "(20, 10)"
      ]
     },
     "execution_count": 5,
     "metadata": {},
     "output_type": "execute_result"
    }
   ],
   "source": [
    "X.shape"
   ]
  },
  {
   "cell_type": "code",
   "execution_count": 6,
   "id": "fe8c4e4d",
   "metadata": {},
   "outputs": [],
   "source": [
    "pca = PCA(n_components=3)"
   ]
  },
  {
   "cell_type": "code",
   "execution_count": 7,
   "id": "12030c15",
   "metadata": {},
   "outputs": [
    {
     "data": {
      "text/plain": [
       "PCA(n_components=3)"
      ]
     },
     "execution_count": 7,
     "metadata": {},
     "output_type": "execute_result"
    }
   ],
   "source": [
    "pca.fit(X)"
   ]
  },
  {
   "cell_type": "code",
   "execution_count": 11,
   "id": "292b26a8",
   "metadata": {},
   "outputs": [
    {
     "name": "stdout",
     "output_type": "stream",
     "text": [
      "[0.59458644 0.3658624  0.01254555]\n"
     ]
    }
   ],
   "source": [
    "print(pca.explained_variance_ratio_)"
   ]
  },
  {
   "cell_type": "code",
   "execution_count": 13,
   "id": "7aaa026e",
   "metadata": {},
   "outputs": [
    {
     "data": {
      "text/plain": [
       "array([ 0.14401847, -0.01479798, -0.04124732, -0.38900921,  0.05065581,\n",
       "        0.61579016,  0.59115852, -0.00633027, -0.20950342,  0.2254917 ])"
      ]
     },
     "execution_count": 13,
     "metadata": {},
     "output_type": "execute_result"
    }
   ],
   "source": [
    "pca.components_[0]"
   ]
  },
  {
   "cell_type": "code",
   "execution_count": 18,
   "id": "700081e5",
   "metadata": {},
   "outputs": [
    {
     "data": {
      "text/plain": [
       "sklearn.decomposition._pca.PCA"
      ]
     },
     "execution_count": 18,
     "metadata": {},
     "output_type": "execute_result"
    }
   ],
   "source": [
    "type(pca)"
   ]
  },
  {
   "cell_type": "code",
   "execution_count": 14,
   "id": "55f88c11",
   "metadata": {},
   "outputs": [],
   "source": [
    "pca_reduced = pca.transform(X)"
   ]
  },
  {
   "cell_type": "code",
   "execution_count": 19,
   "id": "6ee72266",
   "metadata": {},
   "outputs": [
    {
     "data": {
      "text/plain": [
       "array([[-6.31534593e+00,  1.05716239e+01, -6.37691111e-01],\n",
       "       [-1.02372410e+01, -8.20301046e+00,  3.29856331e+00],\n",
       "       [-7.65893733e+00, -8.27478061e+00,  3.43711860e-01],\n",
       "       [ 1.18348493e+01, -1.70058450e+00, -3.94846714e-02],\n",
       "       [-9.37908087e+00, -7.55188347e+00,  8.93938039e-01],\n",
       "       [-5.42217863e+00,  1.23450099e+01, -1.54046243e+00],\n",
       "       [ 1.40153653e+01, -2.00721065e+00, -2.64759650e+00],\n",
       "       [-4.58015558e+00,  1.13088685e+01,  8.73814185e-01],\n",
       "       [ 1.38109740e+01, -2.32058990e+00,  2.04472644e+00],\n",
       "       [-7.70133161e+00,  1.04850171e+01,  4.54874020e-01],\n",
       "       [ 1.46830905e+01, -1.52126286e+00,  8.56321657e-01],\n",
       "       [-8.89880304e+00, -9.03237921e+00, -2.43335069e+00],\n",
       "       [ 1.41309635e+01, -2.35897418e-01, -8.07839407e-01],\n",
       "       [ 1.50410470e+01, -1.55064160e+00,  2.04273710e-01],\n",
       "       [-5.56215992e+00,  1.04469921e+01,  2.23094555e+00],\n",
       "       [-6.13276019e+00, -8.51537936e+00, -9.30179694e-01],\n",
       "       [-8.76525900e+00, -8.81845924e+00, -8.99765884e-01],\n",
       "       [ 1.21142099e+01,  9.98162158e-04,  7.63441786e-01],\n",
       "       [-1.04035138e+01, -7.97324518e+00, -6.26658058e-01],\n",
       "       [-4.57373257e+00,  1.25468148e+01, -1.40158212e+00]])"
      ]
     },
     "execution_count": 19,
     "metadata": {},
     "output_type": "execute_result"
    }
   ],
   "source": [
    "pca_reduced"
   ]
  },
  {
   "cell_type": "code",
   "execution_count": null,
   "id": "4f1bbaf4",
   "metadata": {},
   "outputs": [],
   "source": []
  }
 ],
 "metadata": {
  "kernelspec": {
   "display_name": "Python 3",
   "language": "python",
   "name": "python3"
  },
  "language_info": {
   "codemirror_mode": {
    "name": "ipython",
    "version": 3
   },
   "file_extension": ".py",
   "mimetype": "text/x-python",
   "name": "python",
   "nbconvert_exporter": "python",
   "pygments_lexer": "ipython3",
   "version": "3.8.8"
  }
 },
 "nbformat": 4,
 "nbformat_minor": 5
}
